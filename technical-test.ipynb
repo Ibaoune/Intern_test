{
 "cells": [
  {
   "cell_type": "markdown",
   "id": "af8ad542-891b-4400-b237-bb24d754bffa",
   "metadata": {},
   "source": [
    "# Technical test\n",
    "\n"
   ]
  },
  {
   "cell_type": "markdown",
   "id": "9b623736-7e00-4a4b-90b9-d887e7adcf65",
   "metadata": {},
   "source": [
    "## Part 1"
   ]
  },
  {
   "cell_type": "markdown",
   "id": "90c3a4ba-d9f9-49d6-b1c2-e71efcc657f9",
   "metadata": {},
   "source": [
    "LMDZ is an atmospheric general circulation model. It has been running on the UM6P supercomputer called \"Toubkal\" for over\n",
    " of 34 years (1979-2015) and provided monthly averages of several fields. These include temperature, precipitation and evpotranspiration.\n",
    "\n",
    " In this exercise, you start with two NetCDF files \"sim-Morocco-1980.nc\" and \"sim-Morocco-2015.nc\" containing several fields. \n",
    "\n"
   ]
  },
  {
   "cell_type": "markdown",
   "id": "5fca4433-e801-401e-aba5-35c53fbddb79",
   "metadata": {},
   "source": [
    "### 1. Contents of a NetCDF file\n",
    "\n",
    "The file \"sim-Morocco-1980.nc\" is in NetCDF format.\n",
    "\n",
    "1.1 - Display its contents with a package of your choice (we suggest xarray or netCDF4). \n",
    "\n",
    "1.2 - What physical data does this file contain ? Where does it come from ?\n",
    "\n",
    "1.3 - What are the dimensions ? What are the coordinates ?  What are the primary variables ?"
   ]
  },
  {
   "cell_type": "markdown",
   "id": "0f9c88ed-2ca8-4fb7-9b27-9b97e353e476",
   "metadata": {},
   "source": [
    "### 2. Explore varibales of the NetCDF file\n",
    "\n",
    "The file \"sim35-Morocco.nc\" is in NetCDF format.\n",
    "\n",
    "2.1 - Visualize average precipitation as a function of latitude and longitude over the entire globe for 1980. \n",
    "2.2 - Visualize the average precipitation as a function of latitude and longitude over the entire globe in 2015.\n",
    "   \n",
    "Here are some plot criteria for 2.1 and 2.2:\n",
    "\n",
    "\n",
    "2.3 - Comment on the behavior of precipitation over Morocco between 1980 and 2015.\n"
   ]
  },
  {
   "cell_type": "markdown",
   "id": "aa40ffcb-f0b7-4245-bbd6-e9213a3268c4",
   "metadata": {},
   "source": [
    "## Part 2"
   ]
  },
  {
   "cell_type": "markdown",
   "id": "131453be-5c77-47b2-8985-8d5845b182f0",
   "metadata": {},
   "source": [
    "Follow line by line the bellow notebook which starts with an example\n",
    "Your task is to evaluate performance of the model and then answer the questions"
   ]
  },
  {
   "cell_type": "code",
   "execution_count": null,
   "id": "441242e7-f2dc-45cf-9d92-1700a75002ae",
   "metadata": {},
   "outputs": [],
   "source": [
    "#Preparing Environment\n",
    "\n",
    "!rm original.png test.jpg helpers_ESRGAN.py\n",
    "!wget \"https://gist.githubusercontent.com/aakash30jan/bb17fe23e149e51ffb056193db665154/raw/872d2624e01be48a7ced1e8013b03d50de227ba7/helpers_ESRGAN.py\"\n",
    "!wget https://eoimages.gsfc.nasa.gov/images/imagerecords/92000/92567/moroccodust_viirs_2018214_lrg.jpg -O original.png\n",
    "\n",
    "import os\n",
    "from helpers_ESRGAN import *\n",
    "import time\n",
    "import numpy as np\n",
    "import tensorflow_hub as hub\n",
    "import matplotlib.pyplot as plt\n",
    "from skimage.metrics import structural_similarity as ssim\n",
    "os.environ[\"TFHUB_DOWNLOAD_PROGRESS\"] = \"True\"\n",
    "IMAGE_PATH = \"original.png\"\n",
    "SAVED_MODEL_PATH = \"https://tfhub.dev/captain-pool/esrgan-tf2/1\"\n",
    "model = hub.load(SAVED_MODEL_PATH)\n",
    "%matplotlib inline"
   ]
  },
  {
   "cell_type": "markdown",
   "id": "b215ecf2-9bd3-46fb-84bc-98bc91dc89ff",
   "metadata": {},
   "source": [
    "Example showing data loading, plotting, and using model for spatial enhancement"
   ]
  },
  {
   "cell_type": "code",
   "execution_count": null,
   "id": "a343cdf3-1ecc-4aba-98c9-f82736b400f1",
   "metadata": {},
   "outputs": [],
   "source": [
    "#image loaded from path\n",
    "hr_image = preprocess_image(IMAGE_PATH)[:,::20,::20,:]\n",
    "\n",
    "# Plotting Original Resolution image\n",
    "plot_image(tf.squeeze(hr_image), title=\"Original Image\")\n",
    "save_image(tf.squeeze(hr_image ), filename=\"Original Image\")"
   ]
  },
  {
   "cell_type": "code",
   "execution_count": null,
   "id": "1922e28b-a63e-4cc6-89e2-0eb5d2c16cca",
   "metadata": {},
   "outputs": [],
   "source": [
    "# perform spatial enhancement with the model\n",
    "start = time.time()\n",
    "hrdl_image = model(hr_image)\n",
    "hrdl_image = tf.squeeze(hrdl_image)\n",
    "print(\"Time Taken: %f\" % (time.time() - start))\n",
    "\n",
    "# Plotting Super Resolution Image\n",
    "plot_image(tf.squeeze(hrdl_image), title=\"Super Resolution\")\n",
    "save_image(tf.squeeze(hrdl_image), filename=\"Super Resolution\")"
   ]
  },
  {
   "cell_type": "markdown",
   "id": "7cf5d18b-f04d-417a-97c6-ab11955f854f",
   "metadata": {},
   "source": [
    "Your task is to evaluate performance of the model by completing the following sections and then provide answers to the questions."
   ]
  },
  {
   "cell_type": "markdown",
   "id": "3c06985d-018e-4e40-9b70-9bc87d591c00",
   "metadata": {},
   "source": [
    "1. get the test image from https://eoimages.gsfc.nasa.gov/images/imagerecords/3000/3005/morocco.AMO2002330_lrg.jpeg and save it as \"test.jpg\"\n",
    "\n",
    "\n",
    "\n",
    "2. load the \"test.jpg\" with preprocess_image function similar to previous example\n",
    "\n",
    "\n",
    "\n",
    "3. from hr_image make downscaled image as lr_image with downscale_image function\n",
    "\n",
    "\n",
    "4. plot Low Resolution lr_image with plot_image function\n",
    "\n",
    "\n",
    "5. use the model to generate hrdl_image from lr_image\n",
    "\n",
    "\n",
    "6. plot hrdl_image with plot_image function\n",
    "\n",
    "\n",
    "7. Compare by plotting hr_image , lr_image, hrdl_image side-by-side using plt.subplots and label appropriately\n",
    "\n",
    "8. compare original and predicted image based on compare_images function in helpers_ESRGAN.py\n",
    "\n",
    "\n"
   ]
  },
  {
   "cell_type": "code",
   "execution_count": null,
   "id": "887848f4-eb86-463d-b593-642759d69cb1",
   "metadata": {},
   "outputs": [],
   "source": []
  }
 ],
 "metadata": {
  "kernelspec": {
   "display_name": "Python 3 (ipykernel)",
   "language": "python",
   "name": "python3"
  },
  "language_info": {
   "codemirror_mode": {
    "name": "ipython",
    "version": 3
   },
   "file_extension": ".py",
   "mimetype": "text/x-python",
   "name": "python",
   "nbconvert_exporter": "python",
   "pygments_lexer": "ipython3",
   "version": "3.9.7"
  }
 },
 "nbformat": 4,
 "nbformat_minor": 5
}
